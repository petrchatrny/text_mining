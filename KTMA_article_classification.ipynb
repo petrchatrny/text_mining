{
  "cells": [
    {
      "cell_type": "markdown",
      "id": "efab18fd",
      "metadata": {
        "id": "efab18fd"
      },
      "source": [
        "# Article classification"
      ]
    },
    {
      "cell_type": "markdown",
      "id": "a4a445fc",
      "metadata": {
        "id": "a4a445fc"
      },
      "source": [
        "## Download data"
      ]
    },
    {
      "cell_type": "code",
      "execution_count": null,
      "id": "808eddcb",
      "metadata": {
        "scrolled": true,
        "colab": {
          "base_uri": "https://localhost:8080/"
        },
        "id": "808eddcb",
        "outputId": "4d5265c8-daa7-4fb5-b39c-0da0deb8cc62"
      },
      "outputs": [
        {
          "output_type": "stream",
          "name": "stdout",
          "text": [
            "--2022-11-05 20:53:14--  https://akela.mendelu.cz/~xvalovic/igracek/articles_titles.json\n",
            "Resolving akela.mendelu.cz (akela.mendelu.cz)... 195.113.194.135\n",
            "Connecting to akela.mendelu.cz (akela.mendelu.cz)|195.113.194.135|:443... connected.\n",
            "HTTP request sent, awaiting response... 200 OK\n",
            "Length: 84814849 (81M) [application/json]\n",
            "Saving to: ‘data.json’\n",
            "\n",
            "data.json           100%[===================>]  80.89M  52.6MB/s    in 1.5s    \n",
            "\n",
            "2022-11-05 20:53:16 (52.6 MB/s) - ‘data.json’ saved [84814849/84814849]\n",
            "\n"
          ]
        }
      ],
      "source": [
        "!wget -O data.json \"https://akela.mendelu.cz/~xvalovic/igracek/articles_titles.json\""
      ]
    },
    {
      "cell_type": "code",
      "execution_count": null,
      "id": "f79c6d28",
      "metadata": {
        "colab": {
          "base_uri": "https://localhost:8080/"
        },
        "id": "f79c6d28",
        "outputId": "97d75b80-8663-4e80-e28b-075bb8ed0d70"
      },
      "outputs": [
        {
          "output_type": "stream",
          "name": "stderr",
          "text": [
            "[nltk_data] Downloading package punkt to /root/nltk_data...\n",
            "[nltk_data]   Unzipping tokenizers/punkt.zip.\n",
            "[nltk_data] Downloading package stopwords to /root/nltk_data...\n",
            "[nltk_data]   Unzipping corpora/stopwords.zip.\n",
            "[nltk_data] Downloading package wordnet to /root/nltk_data...\n",
            "[nltk_data] Downloading package omw-1.4 to /root/nltk_data...\n"
          ]
        }
      ],
      "source": [
        "# data manipulation\n",
        "import pandas as pd\n",
        "import numpy as np\n",
        "import json\n",
        "import re\n",
        "from collections import Counter\n",
        "from itertools import chain\n",
        "\n",
        "# pretty loading bar\n",
        "from tqdm import tqdm\n",
        "tqdm.pandas()\n",
        "\n",
        "# natural language processing\n",
        "import nltk\n",
        "import inflect\n",
        "nltk.download(\"punkt\")\n",
        "nltk.download(\"stopwords\")\n",
        "nltk.download('wordnet')\n",
        "nltk.download('omw-1.4')\n",
        "\n",
        "# vectorization\n",
        "from sklearn.feature_extraction.text import TfidfVectorizer\n",
        "\n",
        "# machine learning\n",
        "from sklearn.naive_bayes import MultinomialNB\n",
        "from sklearn.linear_model import LogisticRegression\n",
        "from sklearn.model_selection import train_test_split\n",
        "import joblib\n",
        "\n",
        "# vizualization\n",
        "import matplotlib.pyplot as plt"
      ]
    },
    {
      "cell_type": "markdown",
      "id": "db6060bf",
      "metadata": {
        "id": "db6060bf"
      },
      "source": [
        "## Configuration"
      ]
    },
    {
      "cell_type": "code",
      "execution_count": null,
      "id": "e40eb4c7",
      "metadata": {
        "id": "e40eb4c7"
      },
      "outputs": [],
      "source": [
        "TEST_SIZE = 0.2\n",
        "TARGET_DATA = \"article_text_en\"\n",
        "LIMIT_ROWS = None"
      ]
    },
    {
      "cell_type": "markdown",
      "id": "5cf75d55",
      "metadata": {
        "id": "5cf75d55"
      },
      "source": [
        "## Load data"
      ]
    },
    {
      "cell_type": "code",
      "execution_count": null,
      "id": "b28270fa",
      "metadata": {
        "colab": {
          "base_uri": "https://localhost:8080/",
          "height": 424
        },
        "id": "b28270fa",
        "outputId": "693ce781-a15f-45e1-dedf-dcc6b556b896"
      },
      "outputs": [
        {
          "output_type": "execute_result",
          "data": {
            "text/plain": [
              "      article_category                                   article_title_en  \\\n",
              "0          Unternehmen     Omikron: The pitfalls of the new virus variant   \n",
              "1              Meinung  Fed boss Powell's warning about inflation: Eve...   \n",
              "2          Technologie  Biontech, Moderna and AstraZeneca: How does th...   \n",
              "3             Finanzen  Economist ranking: Tel Aviv replaces Paris as ...   \n",
              "4              Politik  More innovation through more data: EU celebrat...   \n",
              "...                ...                                                ...   \n",
              "45175      Unternehmen                                        VW daughter   \n",
              "45176      Unternehmen  Bestselling author Marc Elsberg on gene manipu...   \n",
              "45177          Politik                          Ifo Employment Scoreboard   \n",
              "45178          Meinung                                 Comment on the SPD   \n",
              "45179      Unternehmen  Study: Proportion of women in board meetings r...   \n",
              "\n",
              "                                         article_text_en  \n",
              "0      Düsseldorf the chefs of the two leading vaccin...  \n",
              "1      Francfurt is likely to become the word of the ...  \n",
              "2      Biontech, moderna, Astra-Zeneca or johnson and...  \n",
              "3      London the Israeli coastal metropolis tel aviv...  \n",
              "4      In the future, the rapidly increasing data vol...  \n",
              "...                                                  ...  \n",
              "45175  Lkw and machine builders are coming forward fa...  \n",
              "45176  Düsseldorf his book blackout about a cyberatta...  \n",
              "45177  Berlin after an uninterrupted increase since m...  \n",
              "45178  On Sunday, the German Social Democraty may not...  \n",
              "45179  Frankfurt/Main in the top days listed German c...  \n",
              "\n",
              "[45180 rows x 3 columns]"
            ],
            "text/html": [
              "\n",
              "  <div id=\"df-98755308-af6e-487c-9728-97fa622e4225\">\n",
              "    <div class=\"colab-df-container\">\n",
              "      <div>\n",
              "<style scoped>\n",
              "    .dataframe tbody tr th:only-of-type {\n",
              "        vertical-align: middle;\n",
              "    }\n",
              "\n",
              "    .dataframe tbody tr th {\n",
              "        vertical-align: top;\n",
              "    }\n",
              "\n",
              "    .dataframe thead th {\n",
              "        text-align: right;\n",
              "    }\n",
              "</style>\n",
              "<table border=\"1\" class=\"dataframe\">\n",
              "  <thead>\n",
              "    <tr style=\"text-align: right;\">\n",
              "      <th></th>\n",
              "      <th>article_category</th>\n",
              "      <th>article_title_en</th>\n",
              "      <th>article_text_en</th>\n",
              "    </tr>\n",
              "  </thead>\n",
              "  <tbody>\n",
              "    <tr>\n",
              "      <th>0</th>\n",
              "      <td>Unternehmen</td>\n",
              "      <td>Omikron: The pitfalls of the new virus variant</td>\n",
              "      <td>Düsseldorf the chefs of the two leading vaccin...</td>\n",
              "    </tr>\n",
              "    <tr>\n",
              "      <th>1</th>\n",
              "      <td>Meinung</td>\n",
              "      <td>Fed boss Powell's warning about inflation: Eve...</td>\n",
              "      <td>Francfurt is likely to become the word of the ...</td>\n",
              "    </tr>\n",
              "    <tr>\n",
              "      <th>2</th>\n",
              "      <td>Technologie</td>\n",
              "      <td>Biontech, Moderna and AstraZeneca: How does th...</td>\n",
              "      <td>Biontech, moderna, Astra-Zeneca or johnson and...</td>\n",
              "    </tr>\n",
              "    <tr>\n",
              "      <th>3</th>\n",
              "      <td>Finanzen</td>\n",
              "      <td>Economist ranking: Tel Aviv replaces Paris as ...</td>\n",
              "      <td>London the Israeli coastal metropolis tel aviv...</td>\n",
              "    </tr>\n",
              "    <tr>\n",
              "      <th>4</th>\n",
              "      <td>Politik</td>\n",
              "      <td>More innovation through more data: EU celebrat...</td>\n",
              "      <td>In the future, the rapidly increasing data vol...</td>\n",
              "    </tr>\n",
              "    <tr>\n",
              "      <th>...</th>\n",
              "      <td>...</td>\n",
              "      <td>...</td>\n",
              "      <td>...</td>\n",
              "    </tr>\n",
              "    <tr>\n",
              "      <th>45175</th>\n",
              "      <td>Unternehmen</td>\n",
              "      <td>VW daughter</td>\n",
              "      <td>Lkw and machine builders are coming forward fa...</td>\n",
              "    </tr>\n",
              "    <tr>\n",
              "      <th>45176</th>\n",
              "      <td>Unternehmen</td>\n",
              "      <td>Bestselling author Marc Elsberg on gene manipu...</td>\n",
              "      <td>Düsseldorf his book blackout about a cyberatta...</td>\n",
              "    </tr>\n",
              "    <tr>\n",
              "      <th>45177</th>\n",
              "      <td>Politik</td>\n",
              "      <td>Ifo Employment Scoreboard</td>\n",
              "      <td>Berlin after an uninterrupted increase since m...</td>\n",
              "    </tr>\n",
              "    <tr>\n",
              "      <th>45178</th>\n",
              "      <td>Meinung</td>\n",
              "      <td>Comment on the SPD</td>\n",
              "      <td>On Sunday, the German Social Democraty may not...</td>\n",
              "    </tr>\n",
              "    <tr>\n",
              "      <th>45179</th>\n",
              "      <td>Unternehmen</td>\n",
              "      <td>Study: Proportion of women in board meetings r...</td>\n",
              "      <td>Frankfurt/Main in the top days listed German c...</td>\n",
              "    </tr>\n",
              "  </tbody>\n",
              "</table>\n",
              "<p>45180 rows × 3 columns</p>\n",
              "</div>\n",
              "      <button class=\"colab-df-convert\" onclick=\"convertToInteractive('df-98755308-af6e-487c-9728-97fa622e4225')\"\n",
              "              title=\"Convert this dataframe to an interactive table.\"\n",
              "              style=\"display:none;\">\n",
              "        \n",
              "  <svg xmlns=\"http://www.w3.org/2000/svg\" height=\"24px\"viewBox=\"0 0 24 24\"\n",
              "       width=\"24px\">\n",
              "    <path d=\"M0 0h24v24H0V0z\" fill=\"none\"/>\n",
              "    <path d=\"M18.56 5.44l.94 2.06.94-2.06 2.06-.94-2.06-.94-.94-2.06-.94 2.06-2.06.94zm-11 1L8.5 8.5l.94-2.06 2.06-.94-2.06-.94L8.5 2.5l-.94 2.06-2.06.94zm10 10l.94 2.06.94-2.06 2.06-.94-2.06-.94-.94-2.06-.94 2.06-2.06.94z\"/><path d=\"M17.41 7.96l-1.37-1.37c-.4-.4-.92-.59-1.43-.59-.52 0-1.04.2-1.43.59L10.3 9.45l-7.72 7.72c-.78.78-.78 2.05 0 2.83L4 21.41c.39.39.9.59 1.41.59.51 0 1.02-.2 1.41-.59l7.78-7.78 2.81-2.81c.8-.78.8-2.07 0-2.86zM5.41 20L4 18.59l7.72-7.72 1.47 1.35L5.41 20z\"/>\n",
              "  </svg>\n",
              "      </button>\n",
              "      \n",
              "  <style>\n",
              "    .colab-df-container {\n",
              "      display:flex;\n",
              "      flex-wrap:wrap;\n",
              "      gap: 12px;\n",
              "    }\n",
              "\n",
              "    .colab-df-convert {\n",
              "      background-color: #E8F0FE;\n",
              "      border: none;\n",
              "      border-radius: 50%;\n",
              "      cursor: pointer;\n",
              "      display: none;\n",
              "      fill: #1967D2;\n",
              "      height: 32px;\n",
              "      padding: 0 0 0 0;\n",
              "      width: 32px;\n",
              "    }\n",
              "\n",
              "    .colab-df-convert:hover {\n",
              "      background-color: #E2EBFA;\n",
              "      box-shadow: 0px 1px 2px rgba(60, 64, 67, 0.3), 0px 1px 3px 1px rgba(60, 64, 67, 0.15);\n",
              "      fill: #174EA6;\n",
              "    }\n",
              "\n",
              "    [theme=dark] .colab-df-convert {\n",
              "      background-color: #3B4455;\n",
              "      fill: #D2E3FC;\n",
              "    }\n",
              "\n",
              "    [theme=dark] .colab-df-convert:hover {\n",
              "      background-color: #434B5C;\n",
              "      box-shadow: 0px 1px 3px 1px rgba(0, 0, 0, 0.15);\n",
              "      filter: drop-shadow(0px 1px 2px rgba(0, 0, 0, 0.3));\n",
              "      fill: #FFFFFF;\n",
              "    }\n",
              "  </style>\n",
              "\n",
              "      <script>\n",
              "        const buttonEl =\n",
              "          document.querySelector('#df-98755308-af6e-487c-9728-97fa622e4225 button.colab-df-convert');\n",
              "        buttonEl.style.display =\n",
              "          google.colab.kernel.accessAllowed ? 'block' : 'none';\n",
              "\n",
              "        async function convertToInteractive(key) {\n",
              "          const element = document.querySelector('#df-98755308-af6e-487c-9728-97fa622e4225');\n",
              "          const dataTable =\n",
              "            await google.colab.kernel.invokeFunction('convertToInteractive',\n",
              "                                                     [key], {});\n",
              "          if (!dataTable) return;\n",
              "\n",
              "          const docLinkHtml = 'Like what you see? Visit the ' +\n",
              "            '<a target=\"_blank\" href=https://colab.research.google.com/notebooks/data_table.ipynb>data table notebook</a>'\n",
              "            + ' to learn more about interactive tables.';\n",
              "          element.innerHTML = '';\n",
              "          dataTable['output_type'] = 'display_data';\n",
              "          await google.colab.output.renderOutput(dataTable, element);\n",
              "          const docLink = document.createElement('div');\n",
              "          docLink.innerHTML = docLinkHtml;\n",
              "          element.appendChild(docLink);\n",
              "        }\n",
              "      </script>\n",
              "    </div>\n",
              "  </div>\n",
              "  "
            ]
          },
          "metadata": {},
          "execution_count": 4
        }
      ],
      "source": [
        "df = pd.DataFrame(json.load(open(\"data.json\")))\n",
        "df = df.drop([\"published_at\"], axis=1)\n",
        "if LIMIT_ROWS:\n",
        "    df = df[:LIMIT_ROWS]\n",
        "df"
      ]
    },
    {
      "cell_type": "markdown",
      "id": "d9fc1944",
      "metadata": {
        "id": "d9fc1944"
      },
      "source": [
        "## Preprocessing"
      ]
    },
    {
      "cell_type": "code",
      "execution_count": null,
      "id": "eb69b480",
      "metadata": {
        "id": "eb69b480"
      },
      "outputs": [],
      "source": [
        "def preprocess(text, stopwords=[]):\n",
        "    text = text.lower()                                # to lowercase\n",
        "    text = re.sub(\"[^a-z-äöüß]\", \" \", text)            # remove non-alphabet characters\n",
        "    text = re.sub(\"[ ]{2,}\", \" \", text)                # remove more than 2 spaces in a row \n",
        "    text = text.strip()                                # remove spaces at the beginning and at the end\n",
        "    \n",
        "    wnl = nltk.stem.WordNetLemmatizer()\n",
        "    tokenized = []\n",
        "\n",
        "    for token in nltk.word_tokenize(text):\n",
        "        token = wnl.lemmatize(token)                    # lemmatize\n",
        "        if token not in stopwords and len(token) > 1:   # stopwords\n",
        "            tokenized.append(token)\n",
        "\n",
        "    return tokenized    "
      ]
    },
    {
      "cell_type": "code",
      "execution_count": null,
      "id": "19f79afb",
      "metadata": {
        "id": "19f79afb"
      },
      "outputs": [],
      "source": [
        "stopwords = nltk.corpus.stopwords.words(\"english\")\n",
        "stopwords.extend([\"also\", \"thus\"])\n",
        "stopwords.extend([\"Monday\", \"Tuesday\", \"Wednesday\", \"Thursday\", \"Friday\", \"Saturday\", \"Sunday\"])\n",
        "stopwords.extend([\"first\", \"second\", \"third\"])\n",
        "stopwords.extend([\"percent\", \"said\", \"year\", \"would\", \"new\", \"ha\"])\n",
        "stopwords.extend([\"wa\", \"say\", \"could\", \"already\", \"want\", \"however\"])\n",
        "stopwords.extend([inflect.engine().number_to_words(i) for i in range(100)])"
      ]
    },
    {
      "cell_type": "code",
      "execution_count": null,
      "id": "a9d4c030",
      "metadata": {
        "colab": {
          "base_uri": "https://localhost:8080/",
          "height": 441
        },
        "id": "a9d4c030",
        "outputId": "fff6f416-22a2-41b6-cdd5-4f19c12e8864"
      },
      "outputs": [
        {
          "output_type": "stream",
          "name": "stderr",
          "text": [
            "100%|██████████| 45180/45180 [02:04<00:00, 363.35it/s]\n"
          ]
        },
        {
          "output_type": "execute_result",
          "data": {
            "text/plain": [
              "      article_category                                   article_title_en  \\\n",
              "0          Unternehmen     Omikron: The pitfalls of the new virus variant   \n",
              "1              Meinung  Fed boss Powell's warning about inflation: Eve...   \n",
              "2          Technologie  Biontech, Moderna and AstraZeneca: How does th...   \n",
              "3             Finanzen  Economist ranking: Tel Aviv replaces Paris as ...   \n",
              "4              Politik  More innovation through more data: EU celebrat...   \n",
              "...                ...                                                ...   \n",
              "45175      Unternehmen                                        VW daughter   \n",
              "45176      Unternehmen  Bestselling author Marc Elsberg on gene manipu...   \n",
              "45177          Politik                          Ifo Employment Scoreboard   \n",
              "45178          Meinung                                 Comment on the SPD   \n",
              "45179      Unternehmen  Study: Proportion of women in board meetings r...   \n",
              "\n",
              "                                         article_text_en  \\\n",
              "0      Düsseldorf the chefs of the two leading vaccin...   \n",
              "1      Francfurt is likely to become the word of the ...   \n",
              "2      Biontech, moderna, Astra-Zeneca or johnson and...   \n",
              "3      London the Israeli coastal metropolis tel aviv...   \n",
              "4      In the future, the rapidly increasing data vol...   \n",
              "...                                                  ...   \n",
              "45175  Lkw and machine builders are coming forward fa...   \n",
              "45176  Düsseldorf his book blackout about a cyberatta...   \n",
              "45177  Berlin after an uninterrupted increase since m...   \n",
              "45178  On Sunday, the German Social Democraty may not...   \n",
              "45179  Frankfurt/Main in the top days listed German c...   \n",
              "\n",
              "                                               tokenized  \n",
              "0      [düsseldorf, chef, leading, vaccination, manuf...  \n",
              "1      [francfurt, likely, become, word, capital, mar...  \n",
              "2      [biontech, moderna, astra-zeneca, johnson, joh...  \n",
              "3      [london, israeli, coastal, metropolis, tel, av...  \n",
              "4      [future, rapidly, increasing, data, volume, co...  \n",
              "...                                                  ...  \n",
              "45175  [lkw, machine, builder, coming, forward, faste...  \n",
              "45176  [düsseldorf, book, blackout, cyberattack, powe...  \n",
              "45177  [berlin, uninterrupted, increase, since, mai, ...  \n",
              "45178  [sunday, german, social, democraty, may, play,...  \n",
              "45179  [frankfurt, main, top, day, listed, german, co...  \n",
              "\n",
              "[45180 rows x 4 columns]"
            ],
            "text/html": [
              "\n",
              "  <div id=\"df-8fa5ce05-4839-49e7-86ab-8076f794c91b\">\n",
              "    <div class=\"colab-df-container\">\n",
              "      <div>\n",
              "<style scoped>\n",
              "    .dataframe tbody tr th:only-of-type {\n",
              "        vertical-align: middle;\n",
              "    }\n",
              "\n",
              "    .dataframe tbody tr th {\n",
              "        vertical-align: top;\n",
              "    }\n",
              "\n",
              "    .dataframe thead th {\n",
              "        text-align: right;\n",
              "    }\n",
              "</style>\n",
              "<table border=\"1\" class=\"dataframe\">\n",
              "  <thead>\n",
              "    <tr style=\"text-align: right;\">\n",
              "      <th></th>\n",
              "      <th>article_category</th>\n",
              "      <th>article_title_en</th>\n",
              "      <th>article_text_en</th>\n",
              "      <th>tokenized</th>\n",
              "    </tr>\n",
              "  </thead>\n",
              "  <tbody>\n",
              "    <tr>\n",
              "      <th>0</th>\n",
              "      <td>Unternehmen</td>\n",
              "      <td>Omikron: The pitfalls of the new virus variant</td>\n",
              "      <td>Düsseldorf the chefs of the two leading vaccin...</td>\n",
              "      <td>[düsseldorf, chef, leading, vaccination, manuf...</td>\n",
              "    </tr>\n",
              "    <tr>\n",
              "      <th>1</th>\n",
              "      <td>Meinung</td>\n",
              "      <td>Fed boss Powell's warning about inflation: Eve...</td>\n",
              "      <td>Francfurt is likely to become the word of the ...</td>\n",
              "      <td>[francfurt, likely, become, word, capital, mar...</td>\n",
              "    </tr>\n",
              "    <tr>\n",
              "      <th>2</th>\n",
              "      <td>Technologie</td>\n",
              "      <td>Biontech, Moderna and AstraZeneca: How does th...</td>\n",
              "      <td>Biontech, moderna, Astra-Zeneca or johnson and...</td>\n",
              "      <td>[biontech, moderna, astra-zeneca, johnson, joh...</td>\n",
              "    </tr>\n",
              "    <tr>\n",
              "      <th>3</th>\n",
              "      <td>Finanzen</td>\n",
              "      <td>Economist ranking: Tel Aviv replaces Paris as ...</td>\n",
              "      <td>London the Israeli coastal metropolis tel aviv...</td>\n",
              "      <td>[london, israeli, coastal, metropolis, tel, av...</td>\n",
              "    </tr>\n",
              "    <tr>\n",
              "      <th>4</th>\n",
              "      <td>Politik</td>\n",
              "      <td>More innovation through more data: EU celebrat...</td>\n",
              "      <td>In the future, the rapidly increasing data vol...</td>\n",
              "      <td>[future, rapidly, increasing, data, volume, co...</td>\n",
              "    </tr>\n",
              "    <tr>\n",
              "      <th>...</th>\n",
              "      <td>...</td>\n",
              "      <td>...</td>\n",
              "      <td>...</td>\n",
              "      <td>...</td>\n",
              "    </tr>\n",
              "    <tr>\n",
              "      <th>45175</th>\n",
              "      <td>Unternehmen</td>\n",
              "      <td>VW daughter</td>\n",
              "      <td>Lkw and machine builders are coming forward fa...</td>\n",
              "      <td>[lkw, machine, builder, coming, forward, faste...</td>\n",
              "    </tr>\n",
              "    <tr>\n",
              "      <th>45176</th>\n",
              "      <td>Unternehmen</td>\n",
              "      <td>Bestselling author Marc Elsberg on gene manipu...</td>\n",
              "      <td>Düsseldorf his book blackout about a cyberatta...</td>\n",
              "      <td>[düsseldorf, book, blackout, cyberattack, powe...</td>\n",
              "    </tr>\n",
              "    <tr>\n",
              "      <th>45177</th>\n",
              "      <td>Politik</td>\n",
              "      <td>Ifo Employment Scoreboard</td>\n",
              "      <td>Berlin after an uninterrupted increase since m...</td>\n",
              "      <td>[berlin, uninterrupted, increase, since, mai, ...</td>\n",
              "    </tr>\n",
              "    <tr>\n",
              "      <th>45178</th>\n",
              "      <td>Meinung</td>\n",
              "      <td>Comment on the SPD</td>\n",
              "      <td>On Sunday, the German Social Democraty may not...</td>\n",
              "      <td>[sunday, german, social, democraty, may, play,...</td>\n",
              "    </tr>\n",
              "    <tr>\n",
              "      <th>45179</th>\n",
              "      <td>Unternehmen</td>\n",
              "      <td>Study: Proportion of women in board meetings r...</td>\n",
              "      <td>Frankfurt/Main in the top days listed German c...</td>\n",
              "      <td>[frankfurt, main, top, day, listed, german, co...</td>\n",
              "    </tr>\n",
              "  </tbody>\n",
              "</table>\n",
              "<p>45180 rows × 4 columns</p>\n",
              "</div>\n",
              "      <button class=\"colab-df-convert\" onclick=\"convertToInteractive('df-8fa5ce05-4839-49e7-86ab-8076f794c91b')\"\n",
              "              title=\"Convert this dataframe to an interactive table.\"\n",
              "              style=\"display:none;\">\n",
              "        \n",
              "  <svg xmlns=\"http://www.w3.org/2000/svg\" height=\"24px\"viewBox=\"0 0 24 24\"\n",
              "       width=\"24px\">\n",
              "    <path d=\"M0 0h24v24H0V0z\" fill=\"none\"/>\n",
              "    <path d=\"M18.56 5.44l.94 2.06.94-2.06 2.06-.94-2.06-.94-.94-2.06-.94 2.06-2.06.94zm-11 1L8.5 8.5l.94-2.06 2.06-.94-2.06-.94L8.5 2.5l-.94 2.06-2.06.94zm10 10l.94 2.06.94-2.06 2.06-.94-2.06-.94-.94-2.06-.94 2.06-2.06.94z\"/><path d=\"M17.41 7.96l-1.37-1.37c-.4-.4-.92-.59-1.43-.59-.52 0-1.04.2-1.43.59L10.3 9.45l-7.72 7.72c-.78.78-.78 2.05 0 2.83L4 21.41c.39.39.9.59 1.41.59.51 0 1.02-.2 1.41-.59l7.78-7.78 2.81-2.81c.8-.78.8-2.07 0-2.86zM5.41 20L4 18.59l7.72-7.72 1.47 1.35L5.41 20z\"/>\n",
              "  </svg>\n",
              "      </button>\n",
              "      \n",
              "  <style>\n",
              "    .colab-df-container {\n",
              "      display:flex;\n",
              "      flex-wrap:wrap;\n",
              "      gap: 12px;\n",
              "    }\n",
              "\n",
              "    .colab-df-convert {\n",
              "      background-color: #E8F0FE;\n",
              "      border: none;\n",
              "      border-radius: 50%;\n",
              "      cursor: pointer;\n",
              "      display: none;\n",
              "      fill: #1967D2;\n",
              "      height: 32px;\n",
              "      padding: 0 0 0 0;\n",
              "      width: 32px;\n",
              "    }\n",
              "\n",
              "    .colab-df-convert:hover {\n",
              "      background-color: #E2EBFA;\n",
              "      box-shadow: 0px 1px 2px rgba(60, 64, 67, 0.3), 0px 1px 3px 1px rgba(60, 64, 67, 0.15);\n",
              "      fill: #174EA6;\n",
              "    }\n",
              "\n",
              "    [theme=dark] .colab-df-convert {\n",
              "      background-color: #3B4455;\n",
              "      fill: #D2E3FC;\n",
              "    }\n",
              "\n",
              "    [theme=dark] .colab-df-convert:hover {\n",
              "      background-color: #434B5C;\n",
              "      box-shadow: 0px 1px 3px 1px rgba(0, 0, 0, 0.15);\n",
              "      filter: drop-shadow(0px 1px 2px rgba(0, 0, 0, 0.3));\n",
              "      fill: #FFFFFF;\n",
              "    }\n",
              "  </style>\n",
              "\n",
              "      <script>\n",
              "        const buttonEl =\n",
              "          document.querySelector('#df-8fa5ce05-4839-49e7-86ab-8076f794c91b button.colab-df-convert');\n",
              "        buttonEl.style.display =\n",
              "          google.colab.kernel.accessAllowed ? 'block' : 'none';\n",
              "\n",
              "        async function convertToInteractive(key) {\n",
              "          const element = document.querySelector('#df-8fa5ce05-4839-49e7-86ab-8076f794c91b');\n",
              "          const dataTable =\n",
              "            await google.colab.kernel.invokeFunction('convertToInteractive',\n",
              "                                                     [key], {});\n",
              "          if (!dataTable) return;\n",
              "\n",
              "          const docLinkHtml = 'Like what you see? Visit the ' +\n",
              "            '<a target=\"_blank\" href=https://colab.research.google.com/notebooks/data_table.ipynb>data table notebook</a>'\n",
              "            + ' to learn more about interactive tables.';\n",
              "          element.innerHTML = '';\n",
              "          dataTable['output_type'] = 'display_data';\n",
              "          await google.colab.output.renderOutput(dataTable, element);\n",
              "          const docLink = document.createElement('div');\n",
              "          docLink.innerHTML = docLinkHtml;\n",
              "          element.appendChild(docLink);\n",
              "        }\n",
              "      </script>\n",
              "    </div>\n",
              "  </div>\n",
              "  "
            ]
          },
          "metadata": {},
          "execution_count": 7
        }
      ],
      "source": [
        "df[\"tokenized\"] = df[TARGET_DATA].progress_apply(preprocess, stopwords=stopwords)\n",
        "df"
      ]
    },
    {
      "cell_type": "markdown",
      "id": "6f224e88",
      "metadata": {
        "id": "6f224e88"
      },
      "source": [
        "## Frequency analysis"
      ]
    },
    {
      "cell_type": "code",
      "execution_count": null,
      "id": "26c41edd",
      "metadata": {
        "colab": {
          "base_uri": "https://localhost:8080/"
        },
        "id": "26c41edd",
        "outputId": "ec801aa7-70a1-4765-f8e9-4c988becfd12"
      },
      "outputs": [
        {
          "output_type": "execute_result",
          "data": {
            "text/plain": [
              "[('euro', 45100),\n",
              " ('company', 36529),\n",
              " ('market', 30262),\n",
              " ('time', 29366),\n",
              " ('bank', 26838),\n",
              " ('billion', 25597),\n",
              " ('german', 23346),\n",
              " ('million', 22983),\n",
              " ('group', 22980),\n",
              " ('country', 22950),\n",
              " ('government', 20814),\n",
              " ('according', 19922),\n",
              " ('state', 19546),\n",
              " ('germany', 18033),\n",
              " ('business', 16219)]"
            ]
          },
          "metadata": {},
          "execution_count": 10
        }
      ],
      "source": [
        "counter = Counter(list(chain.from_iterable(df[\"tokenized\"])))\n",
        "counter.most_common(15)"
      ]
    },
    {
      "cell_type": "code",
      "execution_count": null,
      "id": "22461d06",
      "metadata": {
        "colab": {
          "base_uri": "https://localhost:8080/",
          "height": 512
        },
        "id": "22461d06",
        "outputId": "a7579b8d-6614-4cd2-bc5d-8e5e8b8a98fb"
      },
      "outputs": [
        {
          "output_type": "display_data",
          "data": {
            "text/plain": [
              "<Figure size 2160x576 with 1 Axes>"
            ],
            "image/png": "[encoded data removed]"
          },
          "metadata": {
            "needs_background": "light"
          }
        }
      ],
      "source": [
        "plt.figure(figsize=(30,8))\n",
        "plt.title(\"Term frequency\")\n",
        "plt.plot(range(len(counter.values())), list(counter.values()), '-')\n",
        "plt.xlabel('term index')\n",
        "plt.ylabel('frequency')\n",
        "plt.grid()"
      ]
    },
    {
      "cell_type": "markdown",
      "id": "f49b2680",
      "metadata": {
        "id": "f49b2680"
      },
      "source": [
        "## Vectorization"
      ]
    },
    {
      "cell_type": "code",
      "execution_count": null,
      "id": "82ac1e2a",
      "metadata": {
        "colab": {
          "base_uri": "https://localhost:8080/",
          "height": 441
        },
        "id": "82ac1e2a",
        "outputId": "1be898ed-7737-40f5-85d6-362baf37d97a"
      },
      "outputs": [
        {
          "output_type": "stream",
          "name": "stderr",
          "text": [
            "100%|██████████| 45180/45180 [00:00<00:00, 185130.50it/s]\n"
          ]
        },
        {
          "output_type": "execute_result",
          "data": {
            "text/plain": [
              "      article_category                                   article_title_en  \\\n",
              "0          Unternehmen     Omikron: The pitfalls of the new virus variant   \n",
              "1              Meinung  Fed boss Powell's warning about inflation: Eve...   \n",
              "2          Technologie  Biontech, Moderna and AstraZeneca: How does th...   \n",
              "3             Finanzen  Economist ranking: Tel Aviv replaces Paris as ...   \n",
              "4              Politik  More innovation through more data: EU celebrat...   \n",
              "...                ...                                                ...   \n",
              "45175      Unternehmen                                        VW daughter   \n",
              "45176      Unternehmen  Bestselling author Marc Elsberg on gene manipu...   \n",
              "45177          Politik                          Ifo Employment Scoreboard   \n",
              "45178          Meinung                                 Comment on the SPD   \n",
              "45179      Unternehmen  Study: Proportion of women in board meetings r...   \n",
              "\n",
              "                                         article_text_en  \\\n",
              "0      Düsseldorf the chefs of the two leading vaccin...   \n",
              "1      Francfurt is likely to become the word of the ...   \n",
              "2      Biontech, moderna, Astra-Zeneca or johnson and...   \n",
              "3      London the Israeli coastal metropolis tel aviv...   \n",
              "4      In the future, the rapidly increasing data vol...   \n",
              "...                                                  ...   \n",
              "45175  Lkw and machine builders are coming forward fa...   \n",
              "45176  Düsseldorf his book blackout about a cyberatta...   \n",
              "45177  Berlin after an uninterrupted increase since m...   \n",
              "45178  On Sunday, the German Social Democraty may not...   \n",
              "45179  Frankfurt/Main in the top days listed German c...   \n",
              "\n",
              "                                               tokenized  \n",
              "0      düsseldorf chef leading vaccination manufactur...  \n",
              "1      francfurt likely become word capital market tr...  \n",
              "2      biontech moderna astra-zeneca johnson johnson ...  \n",
              "3      london israeli coastal metropolis tel aviv acc...  \n",
              "4      future rapidly increasing data volume company ...  \n",
              "...                                                  ...  \n",
              "45175  lkw machine builder coming forward faster rest...  \n",
              "45176  düsseldorf book blackout cyberattack power gri...  \n",
              "45177  berlin uninterrupted increase since mai ifo em...  \n",
              "45178  sunday german social democraty may play leadin...  \n",
              "45179  frankfurt main top day listed german company m...  \n",
              "\n",
              "[45180 rows x 4 columns]"
            ],
            "text/html": [
              "\n",
              "  <div id=\"df-7322faa4-d4eb-4eba-9b33-6e17f95b4d9a\">\n",
              "    <div class=\"colab-df-container\">\n",
              "      <div>\n",
              "<style scoped>\n",
              "    .dataframe tbody tr th:only-of-type {\n",
              "        vertical-align: middle;\n",
              "    }\n",
              "\n",
              "    .dataframe tbody tr th {\n",
              "        vertical-align: top;\n",
              "    }\n",
              "\n",
              "    .dataframe thead th {\n",
              "        text-align: right;\n",
              "    }\n",
              "</style>\n",
              "<table border=\"1\" class=\"dataframe\">\n",
              "  <thead>\n",
              "    <tr style=\"text-align: right;\">\n",
              "      <th></th>\n",
              "      <th>article_category</th>\n",
              "      <th>article_title_en</th>\n",
              "      <th>article_text_en</th>\n",
              "      <th>tokenized</th>\n",
              "    </tr>\n",
              "  </thead>\n",
              "  <tbody>\n",
              "    <tr>\n",
              "      <th>0</th>\n",
              "      <td>Unternehmen</td>\n",
              "      <td>Omikron: The pitfalls of the new virus variant</td>\n",
              "      <td>Düsseldorf the chefs of the two leading vaccin...</td>\n",
              "      <td>düsseldorf chef leading vaccination manufactur...</td>\n",
              "    </tr>\n",
              "    <tr>\n",
              "      <th>1</th>\n",
              "      <td>Meinung</td>\n",
              "      <td>Fed boss Powell's warning about inflation: Eve...</td>\n",
              "      <td>Francfurt is likely to become the word of the ...</td>\n",
              "      <td>francfurt likely become word capital market tr...</td>\n",
              "    </tr>\n",
              "    <tr>\n",
              "      <th>2</th>\n",
              "      <td>Technologie</td>\n",
              "      <td>Biontech, Moderna and AstraZeneca: How does th...</td>\n",
              "      <td>Biontech, moderna, Astra-Zeneca or johnson and...</td>\n",
              "      <td>biontech moderna astra-zeneca johnson johnson ...</td>\n",
              "    </tr>\n",
              "    <tr>\n",
              "      <th>3</th>\n",
              "      <td>Finanzen</td>\n",
              "      <td>Economist ranking: Tel Aviv replaces Paris as ...</td>\n",
              "      <td>London the Israeli coastal metropolis tel aviv...</td>\n",
              "      <td>london israeli coastal metropolis tel aviv acc...</td>\n",
              "    </tr>\n",
              "    <tr>\n",
              "      <th>4</th>\n",
              "      <td>Politik</td>\n",
              "      <td>More innovation through more data: EU celebrat...</td>\n",
              "      <td>In the future, the rapidly increasing data vol...</td>\n",
              "      <td>future rapidly increasing data volume company ...</td>\n",
              "    </tr>\n",
              "    <tr>\n",
              "      <th>...</th>\n",
              "      <td>...</td>\n",
              "      <td>...</td>\n",
              "      <td>...</td>\n",
              "      <td>...</td>\n",
              "    </tr>\n",
              "    <tr>\n",
              "      <th>45175</th>\n",
              "      <td>Unternehmen</td>\n",
              "      <td>VW daughter</td>\n",
              "      <td>Lkw and machine builders are coming forward fa...</td>\n",
              "      <td>lkw machine builder coming forward faster rest...</td>\n",
              "    </tr>\n",
              "    <tr>\n",
              "      <th>45176</th>\n",
              "      <td>Unternehmen</td>\n",
              "      <td>Bestselling author Marc Elsberg on gene manipu...</td>\n",
              "      <td>Düsseldorf his book blackout about a cyberatta...</td>\n",
              "      <td>düsseldorf book blackout cyberattack power gri...</td>\n",
              "    </tr>\n",
              "    <tr>\n",
              "      <th>45177</th>\n",
              "      <td>Politik</td>\n",
              "      <td>Ifo Employment Scoreboard</td>\n",
              "      <td>Berlin after an uninterrupted increase since m...</td>\n",
              "      <td>berlin uninterrupted increase since mai ifo em...</td>\n",
              "    </tr>\n",
              "    <tr>\n",
              "      <th>45178</th>\n",
              "      <td>Meinung</td>\n",
              "      <td>Comment on the SPD</td>\n",
              "      <td>On Sunday, the German Social Democraty may not...</td>\n",
              "      <td>sunday german social democraty may play leadin...</td>\n",
              "    </tr>\n",
              "    <tr>\n",
              "      <th>45179</th>\n",
              "      <td>Unternehmen</td>\n",
              "      <td>Study: Proportion of women in board meetings r...</td>\n",
              "      <td>Frankfurt/Main in the top days listed German c...</td>\n",
              "      <td>frankfurt main top day listed german company m...</td>\n",
              "    </tr>\n",
              "  </tbody>\n",
              "</table>\n",
              "<p>45180 rows × 4 columns</p>\n",
              "</div>\n",
              "      <button class=\"colab-df-convert\" onclick=\"convertToInteractive('df-7322faa4-d4eb-4eba-9b33-6e17f95b4d9a')\"\n",
              "              title=\"Convert this dataframe to an interactive table.\"\n",
              "              style=\"display:none;\">\n",
              "        \n",
              "  <svg xmlns=\"http://www.w3.org/2000/svg\" height=\"24px\"viewBox=\"0 0 24 24\"\n",
              "       width=\"24px\">\n",
              "    <path d=\"M0 0h24v24H0V0z\" fill=\"none\"/>\n",
              "    <path d=\"M18.56 5.44l.94 2.06.94-2.06 2.06-.94-2.06-.94-.94-2.06-.94 2.06-2.06.94zm-11 1L8.5 8.5l.94-2.06 2.06-.94-2.06-.94L8.5 2.5l-.94 2.06-2.06.94zm10 10l.94 2.06.94-2.06 2.06-.94-2.06-.94-.94-2.06-.94 2.06-2.06.94z\"/><path d=\"M17.41 7.96l-1.37-1.37c-.4-.4-.92-.59-1.43-.59-.52 0-1.04.2-1.43.59L10.3 9.45l-7.72 7.72c-.78.78-.78 2.05 0 2.83L4 21.41c.39.39.9.59 1.41.59.51 0 1.02-.2 1.41-.59l7.78-7.78 2.81-2.81c.8-.78.8-2.07 0-2.86zM5.41 20L4 18.59l7.72-7.72 1.47 1.35L5.41 20z\"/>\n",
              "  </svg>\n",
              "      </button>\n",
              "      \n",
              "  <style>\n",
              "    .colab-df-container {\n",
              "      display:flex;\n",
              "      flex-wrap:wrap;\n",
              "      gap: 12px;\n",
              "    }\n",
              "\n",
              "    .colab-df-convert {\n",
              "      background-color: #E8F0FE;\n",
              "      border: none;\n",
              "      border-radius: 50%;\n",
              "      cursor: pointer;\n",
              "      display: none;\n",
              "      fill: #1967D2;\n",
              "      height: 32px;\n",
              "      padding: 0 0 0 0;\n",
              "      width: 32px;\n",
              "    }\n",
              "\n",
              "    .colab-df-convert:hover {\n",
              "      background-color: #E2EBFA;\n",
              "      box-shadow: 0px 1px 2px rgba(60, 64, 67, 0.3), 0px 1px 3px 1px rgba(60, 64, 67, 0.15);\n",
              "      fill: #174EA6;\n",
              "    }\n",
              "\n",
              "    [theme=dark] .colab-df-convert {\n",
              "      background-color: #3B4455;\n",
              "      fill: #D2E3FC;\n",
              "    }\n",
              "\n",
              "    [theme=dark] .colab-df-convert:hover {\n",
              "      background-color: #434B5C;\n",
              "      box-shadow: 0px 1px 3px 1px rgba(0, 0, 0, 0.15);\n",
              "      filter: drop-shadow(0px 1px 2px rgba(0, 0, 0, 0.3));\n",
              "      fill: #FFFFFF;\n",
              "    }\n",
              "  </style>\n",
              "\n",
              "      <script>\n",
              "        const buttonEl =\n",
              "          document.querySelector('#df-7322faa4-d4eb-4eba-9b33-6e17f95b4d9a button.colab-df-convert');\n",
              "        buttonEl.style.display =\n",
              "          google.colab.kernel.accessAllowed ? 'block' : 'none';\n",
              "\n",
              "        async function convertToInteractive(key) {\n",
              "          const element = document.querySelector('#df-7322faa4-d4eb-4eba-9b33-6e17f95b4d9a');\n",
              "          const dataTable =\n",
              "            await google.colab.kernel.invokeFunction('convertToInteractive',\n",
              "                                                     [key], {});\n",
              "          if (!dataTable) return;\n",
              "\n",
              "          const docLinkHtml = 'Like what you see? Visit the ' +\n",
              "            '<a target=\"_blank\" href=https://colab.research.google.com/notebooks/data_table.ipynb>data table notebook</a>'\n",
              "            + ' to learn more about interactive tables.';\n",
              "          element.innerHTML = '';\n",
              "          dataTable['output_type'] = 'display_data';\n",
              "          await google.colab.output.renderOutput(dataTable, element);\n",
              "          const docLink = document.createElement('div');\n",
              "          docLink.innerHTML = docLinkHtml;\n",
              "          element.appendChild(docLink);\n",
              "        }\n",
              "      </script>\n",
              "    </div>\n",
              "  </div>\n",
              "  "
            ]
          },
          "metadata": {},
          "execution_count": 12
        }
      ],
      "source": [
        "def convert_term_list_to_string(token_list):\n",
        "    if isinstance(token_list, list):\n",
        "        return ' '.join(token_list)\n",
        "    \n",
        "df[\"tokenized\"] = df[\"tokenized\"].progress_apply(convert_term_list_to_string)   # convert list to string\n",
        "df[df[\"tokenized\"].str.contains(\"\") == False]                                   # drop empty strings\n",
        "df"
      ]
    },
    {
      "cell_type": "code",
      "execution_count": null,
      "id": "45b6fcc4",
      "metadata": {
        "colab": {
          "base_uri": "https://localhost:8080/"
        },
        "id": "45b6fcc4",
        "outputId": "55de2878-2d7b-49c3-e92c-6c27e7b456a3"
      },
      "outputs": [
        {
          "output_type": "stream",
          "name": "stderr",
          "text": [
            "100%|██████████| 45180/45180 [00:00<00:00, 779663.01it/s]\n"
          ]
        }
      ],
      "source": [
        "# convert article categories to numbers\n",
        "categories = {}\n",
        "for (category, id) in enumerate(df[\"article_category\"].unique()):\n",
        "    categories[id] = category\n",
        "df[\"category_id\"] = df[\"article_category\"].progress_apply(categories.get)"
      ]
    },
    {
      "cell_type": "code",
      "execution_count": null,
      "id": "5caf1843",
      "metadata": {
        "id": "5caf1843"
      },
      "outputs": [],
      "source": [
        "tf_idf = TfidfVectorizer()\n",
        "tf_idf.fit_transform(df[\"tokenized\"])\n",
        "\n",
        "# split data to training and testing\n",
        "x_training, x_testing, y_training, y_testing = train_test_split(\n",
        "    df[\"tokenized\"], df[\"category_id\"], test_size = TEST_SIZE)\n",
        "\n",
        "# vectorize\n",
        "x_training = tf_idf.transform(x_training)\n",
        "x_testing = tf_idf.transform(x_testing)"
      ]
    },
    {
      "cell_type": "markdown",
      "id": "8b93b3f5",
      "metadata": {
        "id": "8b93b3f5"
      },
      "source": [
        "## Machine learning"
      ]
    },
    {
      "cell_type": "code",
      "execution_count": null,
      "id": "71a983f4",
      "metadata": {
        "id": "71a983f4"
      },
      "outputs": [],
      "source": [
        "# Naive Bayes\n",
        "bayes_model = MultinomialNB()\n",
        "bayes_model.fit(x_training, y_training)\n",
        "\n",
        "bayes_prediction = bayes_model.predict(x_testing)"
      ]
    },
    {
      "cell_type": "code",
      "execution_count": null,
      "id": "e3da1af7",
      "metadata": {
        "id": "e3da1af7"
      },
      "outputs": [],
      "source": [
        "# Logistic regresion\n",
        "#lr_model = LogisticRegression(solver = \"saga\", C=10, penalty=\"elasticnet\", l1_ratio=0.8)\n",
        "lr_model = LogisticRegression(solver = \"liblinear\", penalty=\"l2\", C=10)\n",
        "lr_model.fit(x_training, y_training)\n",
        "\n",
        "lr_prediction = lr_model.predict(x_testing)"
      ]
    },
    {
      "cell_type": "markdown",
      "id": "5d0a5fcc",
      "metadata": {
        "id": "5d0a5fcc"
      },
      "source": [
        "## Results"
      ]
    },
    {
      "cell_type": "code",
      "execution_count": null,
      "id": "8ae15609",
      "metadata": {
        "colab": {
          "base_uri": "https://localhost:8080/"
        },
        "id": "8ae15609",
        "outputId": "8e34b380-3b55-49d8-d54b-ce25c647fd29"
      },
      "outputs": [
        {
          "output_type": "stream",
          "name": "stdout",
          "text": [
            "==== RESULTS ====\n",
            "Dataset size: 45180\n",
            "Testing size: 20.0 %\n",
            "\n",
            "Naive Bayes results:\n",
            "    6189 / 9036\n",
            "    accurancy: 68.49269588313413 %\n",
            "\n",
            "Logistic regresion result:\n",
            "    7487 / 9036\n",
            "    accurancy: 82.85745905267818 %\n"
          ]
        }
      ],
      "source": [
        "result = pd.DataFrame(columns=[\"y_testing\", \"bayes_predict\", \"lr_predict\"])\n",
        "result[\"y_testing\"] = y_testing\n",
        "result[\"bayes_predict\"] = bayes_prediction\n",
        "result[\"lr_predict\"] = lr_prediction\n",
        "\n",
        "total_res = len(result)\n",
        "bayes_correct_res = 0\n",
        "lr_correct_res = 0\n",
        "\n",
        "for index, row in result.iterrows():\n",
        "    if row['y_testing'] == row['bayes_predict']:\n",
        "      bayes_correct_res += 1\n",
        "    if row[\"y_testing\"] == row[\"lr_predict\"]:\n",
        "      lr_correct_res += 1\n",
        "\n",
        "print(\"==== RESULTS ====\")\n",
        "print(f\"Dataset size: {len(df)}\")\n",
        "print(f\"Testing size: {TEST_SIZE * 100} %\\n\")\n",
        "print(f\"Naive Bayes results:\")\n",
        "print(f\"    {bayes_correct_res} / {total_res}\")\n",
        "print(f\"    accurancy: {bayes_correct_res * 100 / total_res} %\\n\")\n",
        "print(f\"Logistic regresion result:\")\n",
        "print(f\"    {lr_correct_res} / {total_res}\")\n",
        "print(f\"    accurancy: {lr_correct_res * 100 / total_res} %\")"
      ]
    },
    {
      "cell_type": "code",
      "execution_count": null,
      "id": "f071f6f7",
      "metadata": {
        "colab": {
          "base_uri": "https://localhost:8080/"
        },
        "id": "f071f6f7",
        "outputId": "e5646138-18e1-401e-d8b3-d2dfc33ed2f4"
      },
      "outputs": [
        {
          "output_type": "stream",
          "name": "stdout",
          "text": [
            "\n",
            "==== SAVING MODELS ====\n",
            "['article_text_en_bayes.joblib']\n",
            "['article_text_en_logistic_regresion.joblib']\n",
            "['categories.json']\n"
          ]
        }
      ],
      "source": [
        "print(\"\\n==== SAVING MODELS ====\")\n",
        "print(joblib.dump(bayes_model, TARGET_DATA + \"_bayes.joblib\"))\n",
        "print(joblib.dump(lr_model, TARGET_DATA + \"_logistic_regresion.joblib\"))\n",
        "with open(\"categories.json\", mode=\"w\") as f:\n",
        "    json.dump(categories, f)\n",
        "print(\"['categories.json']\")"
      ]
    },
    {
      "cell_type": "markdown",
      "id": "efd1b27b",
      "metadata": {
        "id": "efd1b27b"
      },
      "source": [
        "## Trained model - experimental usage"
      ]
    },
    {
      "cell_type": "code",
      "source": [
        "!wget \"https://akela.mendelu.cz/~xchatrny/soubory/ktma/experiment_text.json\"\n",
        "!wget \"https://akela.mendelu.cz/~xchatrny/soubory/ktma/experiment_text.json\""
      ],
      "metadata": {
        "colab": {
          "base_uri": "https://localhost:8080/"
        },
        "id": "aJ3oxKPonBZI",
        "outputId": "48caf01c-051b-4875-caaf-b5184699ab1b"
      },
      "id": "aJ3oxKPonBZI",
      "execution_count": null,
      "outputs": [
        {
          "output_type": "stream",
          "name": "stdout",
          "text": [
            "--2022-11-05 21:05:40--  https://akela.mendelu.cz/~xchatrny/soubory/ktma/experiment_text.json\n",
            "Resolving akela.mendelu.cz (akela.mendelu.cz)... 195.113.194.135\n",
            "Connecting to akela.mendelu.cz (akela.mendelu.cz)|195.113.194.135|:443... connected.\n",
            "HTTP request sent, awaiting response... 200 OK\n",
            "Length: 1774 (1.7K) [application/json]\n",
            "Saving to: ‘experiment_text.json’\n",
            "\n",
            "experiment_text.jso 100%[===================>]   1.73K  --.-KB/s    in 0s      \n",
            "\n",
            "2022-11-05 21:05:41 (192 MB/s) - ‘experiment_text.json’ saved [1774/1774]\n",
            "\n",
            "--2022-11-05 21:05:41--  https://akela.mendelu.cz/~xchatrny/soubory/ktma/experiment_text.json\n",
            "Resolving akela.mendelu.cz (akela.mendelu.cz)... 195.113.194.135\n",
            "Connecting to akela.mendelu.cz (akela.mendelu.cz)|195.113.194.135|:443... connected.\n",
            "HTTP request sent, awaiting response... 200 OK\n",
            "Length: 1774 (1.7K) [application/json]\n",
            "Saving to: ‘experiment_text.json.1’\n",
            "\n",
            "experiment_text.jso 100%[===================>]   1.73K  --.-KB/s    in 0s      \n",
            "\n",
            "2022-11-05 21:05:42 (195 MB/s) - ‘experiment_text.json.1’ saved [1774/1774]\n",
            "\n"
          ]
        }
      ]
    },
    {
      "cell_type": "code",
      "execution_count": null,
      "id": "87734945",
      "metadata": {
        "colab": {
          "base_uri": "https://localhost:8080/",
          "height": 112
        },
        "id": "87734945",
        "outputId": "e2a25650-54af-4e09-fadc-b2037edabf55"
      },
      "outputs": [
        {
          "output_type": "execute_result",
          "data": {
            "text/plain": [
              "                                                data  \\\n",
              "0  On the plane on the way back from Beijing to B...   \n",
              "1  Düsseldorf The German oil and gas producer Win...   \n",
              "\n",
              "                                           tokenized expected_result  \\\n",
              "0  plane way back beijing berlin olaf scholz seem...         Meinung   \n",
              "1  düsseldorf german oil gas producer wintershall...     Unternehmen   \n",
              "\n",
              "     ai_result  \n",
              "0     Finanzen  \n",
              "1  Unternehmen  "
            ],
            "text/html": [
              "\n",
              "  <div id=\"df-cbe4daec-7c23-495d-891a-69fda5ea9bf1\">\n",
              "    <div class=\"colab-df-container\">\n",
              "      <div>\n",
              "<style scoped>\n",
              "    .dataframe tbody tr th:only-of-type {\n",
              "        vertical-align: middle;\n",
              "    }\n",
              "\n",
              "    .dataframe tbody tr th {\n",
              "        vertical-align: top;\n",
              "    }\n",
              "\n",
              "    .dataframe thead th {\n",
              "        text-align: right;\n",
              "    }\n",
              "</style>\n",
              "<table border=\"1\" class=\"dataframe\">\n",
              "  <thead>\n",
              "    <tr style=\"text-align: right;\">\n",
              "      <th></th>\n",
              "      <th>data</th>\n",
              "      <th>tokenized</th>\n",
              "      <th>expected_result</th>\n",
              "      <th>ai_result</th>\n",
              "    </tr>\n",
              "  </thead>\n",
              "  <tbody>\n",
              "    <tr>\n",
              "      <th>0</th>\n",
              "      <td>On the plane on the way back from Beijing to B...</td>\n",
              "      <td>plane way back beijing berlin olaf scholz seem...</td>\n",
              "      <td>Meinung</td>\n",
              "      <td>Finanzen</td>\n",
              "    </tr>\n",
              "    <tr>\n",
              "      <th>1</th>\n",
              "      <td>Düsseldorf The German oil and gas producer Win...</td>\n",
              "      <td>düsseldorf german oil gas producer wintershall...</td>\n",
              "      <td>Unternehmen</td>\n",
              "      <td>Unternehmen</td>\n",
              "    </tr>\n",
              "  </tbody>\n",
              "</table>\n",
              "</div>\n",
              "      <button class=\"colab-df-convert\" onclick=\"convertToInteractive('df-cbe4daec-7c23-495d-891a-69fda5ea9bf1')\"\n",
              "              title=\"Convert this dataframe to an interactive table.\"\n",
              "              style=\"display:none;\">\n",
              "        \n",
              "  <svg xmlns=\"http://www.w3.org/2000/svg\" height=\"24px\"viewBox=\"0 0 24 24\"\n",
              "       width=\"24px\">\n",
              "    <path d=\"M0 0h24v24H0V0z\" fill=\"none\"/>\n",
              "    <path d=\"M18.56 5.44l.94 2.06.94-2.06 2.06-.94-2.06-.94-.94-2.06-.94 2.06-2.06.94zm-11 1L8.5 8.5l.94-2.06 2.06-.94-2.06-.94L8.5 2.5l-.94 2.06-2.06.94zm10 10l.94 2.06.94-2.06 2.06-.94-2.06-.94-.94-2.06-.94 2.06-2.06.94z\"/><path d=\"M17.41 7.96l-1.37-1.37c-.4-.4-.92-.59-1.43-.59-.52 0-1.04.2-1.43.59L10.3 9.45l-7.72 7.72c-.78.78-.78 2.05 0 2.83L4 21.41c.39.39.9.59 1.41.59.51 0 1.02-.2 1.41-.59l7.78-7.78 2.81-2.81c.8-.78.8-2.07 0-2.86zM5.41 20L4 18.59l7.72-7.72 1.47 1.35L5.41 20z\"/>\n",
              "  </svg>\n",
              "      </button>\n",
              "      \n",
              "  <style>\n",
              "    .colab-df-container {\n",
              "      display:flex;\n",
              "      flex-wrap:wrap;\n",
              "      gap: 12px;\n",
              "    }\n",
              "\n",
              "    .colab-df-convert {\n",
              "      background-color: #E8F0FE;\n",
              "      border: none;\n",
              "      border-radius: 50%;\n",
              "      cursor: pointer;\n",
              "      display: none;\n",
              "      fill: #1967D2;\n",
              "      height: 32px;\n",
              "      padding: 0 0 0 0;\n",
              "      width: 32px;\n",
              "    }\n",
              "\n",
              "    .colab-df-convert:hover {\n",
              "      background-color: #E2EBFA;\n",
              "      box-shadow: 0px 1px 2px rgba(60, 64, 67, 0.3), 0px 1px 3px 1px rgba(60, 64, 67, 0.15);\n",
              "      fill: #174EA6;\n",
              "    }\n",
              "\n",
              "    [theme=dark] .colab-df-convert {\n",
              "      background-color: #3B4455;\n",
              "      fill: #D2E3FC;\n",
              "    }\n",
              "\n",
              "    [theme=dark] .colab-df-convert:hover {\n",
              "      background-color: #434B5C;\n",
              "      box-shadow: 0px 1px 3px 1px rgba(0, 0, 0, 0.15);\n",
              "      filter: drop-shadow(0px 1px 2px rgba(0, 0, 0, 0.3));\n",
              "      fill: #FFFFFF;\n",
              "    }\n",
              "  </style>\n",
              "\n",
              "      <script>\n",
              "        const buttonEl =\n",
              "          document.querySelector('#df-cbe4daec-7c23-495d-891a-69fda5ea9bf1 button.colab-df-convert');\n",
              "        buttonEl.style.display =\n",
              "          google.colab.kernel.accessAllowed ? 'block' : 'none';\n",
              "\n",
              "        async function convertToInteractive(key) {\n",
              "          const element = document.querySelector('#df-cbe4daec-7c23-495d-891a-69fda5ea9bf1');\n",
              "          const dataTable =\n",
              "            await google.colab.kernel.invokeFunction('convertToInteractive',\n",
              "                                                     [key], {});\n",
              "          if (!dataTable) return;\n",
              "\n",
              "          const docLinkHtml = 'Like what you see? Visit the ' +\n",
              "            '<a target=\"_blank\" href=https://colab.research.google.com/notebooks/data_table.ipynb>data table notebook</a>'\n",
              "            + ' to learn more about interactive tables.';\n",
              "          element.innerHTML = '';\n",
              "          dataTable['output_type'] = 'display_data';\n",
              "          await google.colab.output.renderOutput(dataTable, element);\n",
              "          const docLink = document.createElement('div');\n",
              "          docLink.innerHTML = docLinkHtml;\n",
              "          element.appendChild(docLink);\n",
              "        }\n",
              "      </script>\n",
              "    </div>\n",
              "  </div>\n",
              "  "
            ]
          },
          "metadata": {},
          "execution_count": 21
        }
      ],
      "source": [
        "data = pd.DataFrame(json.load(open(\"experiment_text.json\")))\n",
        "model = \"logistic_regresion\"  # logistic_regresion | bayes\n",
        "\n",
        "loaded_model = joblib.load(f\"{TARGET_DATA}_{model}.joblib\")\n",
        "\n",
        "def get_category_by_id(id):\n",
        "    categories = json.load(open('categories.json'))\n",
        "    keys = list(categories.keys())\n",
        "    vals = list(categories.values())\n",
        "    return keys[vals.index(id)]\n",
        "\n",
        "data[\"tokenized\"] = data[\"data\"].apply(preprocess, stopwords=stopwords)\n",
        "data[\"tokenized\"] = data[\"tokenized\"].apply(convert_term_list_to_string)\n",
        "\n",
        "vectors = tf_idf.transform(data[\"tokenized\"])\n",
        "category_ids = loaded_model.predict(vectors)\n",
        "\n",
        "data[\"ai_result\"] = [get_category_by_id(category_id) for category_id in category_ids]\n",
        "data = data[[\"data\", \"tokenized\", \"expected_result\", \"ai_result\"]]\n",
        "data"
      ]
    }
  ],
  "metadata": {
    "kernelspec": {
      "display_name": "venv",
      "language": "python",
      "name": "venv"
    },
    "language_info": {
      "codemirror_mode": {
        "name": "ipython",
        "version": 3
      },
      "file_extension": ".py",
      "mimetype": "text/x-python",
      "name": "python",
      "nbconvert_exporter": "python",
      "pygments_lexer": "ipython3",
      "version": "3.10.6"
    },
    "colab": {
      "provenance": [],
      "collapsed_sections": []
    }
  },
  "nbformat": 4,
  "nbformat_minor": 5
}